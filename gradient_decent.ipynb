{
 "cells": [
  {
   "cell_type": "code",
   "execution_count": 2,
   "metadata": {},
   "outputs": [],
   "source": [
    "import numpy as np\n",
    "import torch\n",
    "import torch.nn as nn"
   ]
  },
  {
   "cell_type": "markdown",
   "metadata": {},
   "source": [
    "### linear regression from scratch\n",
    "\n",
    "- Prediction: Manually\n",
    "- Gradient Computation: Manually\n",
    "- Loss Computation: Manually\n",
    "- Parameter update: Manually"
   ]
  },
  {
   "cell_type": "code",
   "execution_count": 3,
   "metadata": {},
   "outputs": [
    {
     "name": "stdout",
     "output_type": "stream",
     "text": [
      "prediction before training: f(5) = 0.0\n",
      "epoch: 0, w = 1.200, loss = 30.00000000\n",
      "epoch: 1, w = 1.680, loss = 4.79999924\n",
      "epoch: 2, w = 1.872, loss = 0.76800019\n",
      "epoch: 3, w = 1.949, loss = 0.12288000\n",
      "epoch: 4, w = 1.980, loss = 0.01966083\n",
      "epoch: 5, w = 1.992, loss = 0.00314570\n",
      "epoch: 6, w = 1.997, loss = 0.00050332\n",
      "epoch: 7, w = 1.999, loss = 0.00008053\n",
      "epoch: 8, w = 1.999, loss = 0.00001288\n",
      "epoch: 9, w = 2.000, loss = 0.00000206\n",
      "prediction after training: f(5) = 9.998951458930968\n"
     ]
    }
   ],
   "source": [
    "X = np.array([1,2,3,4], dtype=np.float32)\n",
    "Y = np.array([2,4,6,8], dtype=np.float32)\n",
    "\n",
    "W = 0.0\n",
    "\n",
    "def forward(x,w):\n",
    "    return w * x\n",
    "\n",
    "def loss(y, y_predicted):\n",
    "    return ((y_predicted - y)**2).mean()\n",
    "\n",
    "#MSE 1/N * (wx - y)**2\n",
    "#dJ/dw = 1/N 2 x (wx-y)\n",
    "\n",
    "def gradient(x, y, y_predicted):\n",
    "    return np.dot(2*x, y_predicted-y).mean()\n",
    "\n",
    "print('prediction before training: f(5) = {}'.format(forward(5,W)))\n",
    "\n",
    "lr = 0.01\n",
    "n_iters = 10\n",
    "\n",
    "for epoch in range(n_iters):\n",
    "    y_pred = forward(X,W)\n",
    "    l = loss(Y, y_pred)\n",
    "    dw = gradient(X, Y, y_pred)\n",
    "\n",
    "    W -= lr*dw\n",
    "    print(\"epoch: {}, w = {:.3f}, loss = {:.8f}\".format(epoch, W, l))\n",
    "\n",
    "print('prediction after training: f(5) = {}'.format(forward(5,W)))"
   ]
  },
  {
   "cell_type": "markdown",
   "metadata": {},
   "source": [
    "\n",
    "- Prediction: Manually\n",
    "- Gradient Computation: Autograd\n",
    "- Loss Computation: Manually\n",
    "- Parameter update: Manually"
   ]
  },
  {
   "cell_type": "code",
   "execution_count": 4,
   "metadata": {},
   "outputs": [
    {
     "name": "stdout",
     "output_type": "stream",
     "text": [
      "prediction before training: f(5) = 0.0\n",
      "epoch: 0, w = 0.300, loss = 30.00000000\n",
      "epoch: 1, w = 0.555, loss = 21.67499924\n",
      "epoch: 2, w = 0.772, loss = 15.66018772\n",
      "epoch: 3, w = 0.956, loss = 11.31448650\n",
      "epoch: 4, w = 1.113, loss = 8.17471695\n",
      "epoch: 5, w = 1.246, loss = 5.90623236\n",
      "epoch: 6, w = 1.359, loss = 4.26725292\n",
      "epoch: 7, w = 1.455, loss = 3.08308983\n",
      "epoch: 8, w = 1.537, loss = 2.22753215\n",
      "epoch: 9, w = 1.606, loss = 1.60939169\n",
      "epoch: 10, w = 1.665, loss = 1.16278565\n",
      "epoch: 11, w = 1.716, loss = 0.84011245\n",
      "epoch: 12, w = 1.758, loss = 0.60698116\n",
      "epoch: 13, w = 1.794, loss = 0.43854395\n",
      "epoch: 14, w = 1.825, loss = 0.31684780\n",
      "epoch: 15, w = 1.851, loss = 0.22892261\n",
      "epoch: 16, w = 1.874, loss = 0.16539653\n",
      "epoch: 17, w = 1.893, loss = 0.11949898\n",
      "epoch: 18, w = 1.909, loss = 0.08633806\n",
      "epoch: 19, w = 1.922, loss = 0.06237914\n",
      "prediction after training: f(5) = 9.612405776977539\n"
     ]
    }
   ],
   "source": [
    "X = torch.tensor([1,2,3,4], dtype=torch.float32)\n",
    "Y = torch.tensor([2,4,6,8], dtype=torch.float32)\n",
    "\n",
    "W = torch.tensor(0.0, dtype=torch.float32, requires_grad=True)\n",
    "\n",
    "def forward(x,w):\n",
    "    return w * x\n",
    "\n",
    "def loss(y, y_predicted):\n",
    "    return ((y_predicted - y)**2).mean()\n",
    "\n",
    "print('prediction before training: f(5) = {}'.format(forward(5,W)))\n",
    "\n",
    "lr = 0.01\n",
    "n_iters = 20\n",
    "\n",
    "for epoch in range(n_iters):\n",
    "    y_pred = forward(X,W)\n",
    "    l = loss(Y, y_pred)\n",
    "    l.backward()\n",
    "\n",
    "    with torch.no_grad(): #equal to optimizer.step\n",
    "        W -= lr* W.grad #optimization\n",
    "\n",
    "    W.grad.zero_()\n",
    "\n",
    "\n",
    "    print(\"epoch: {}, w = {:.3f}, loss = {:.8f}\".format(epoch, W, l))\n",
    "\n",
    "print('prediction after training: f(5) = {}'.format(forward(5,W)))\n"
   ]
  },
  {
   "cell_type": "markdown",
   "metadata": {},
   "source": [
    "\n",
    "- Prediction: Manually\n",
    "- Gradient Computation: Autograd\n",
    "- Loss Computation: pytorch loss\n",
    "- Parameter update: pytorch optimizer"
   ]
  },
  {
   "cell_type": "markdown",
   "metadata": {},
   "source": [
    "1. Design the model\n",
    "    * Input size\n",
    "    * Output size\n",
    "    * Forward pass\n",
    "2. Construct loss and optimizer\n",
    "3. Training loop\n",
    "    * Forward pass: Compute the prediction\n",
    "    * Backward pass: Gradients"
   ]
  },
  {
   "cell_type": "code",
   "execution_count": 9,
   "metadata": {},
   "outputs": [
    {
     "name": "stdout",
     "output_type": "stream",
     "text": [
      "30.0\n",
      "30.0\n",
      "30.0\n",
      "30.0\n",
      "30.0\n",
      "30.0\n",
      "30.0\n",
      "30.0\n",
      "30.0\n",
      "30.0\n"
     ]
    }
   ],
   "source": [
    "X = torch.tensor([1,2,3,4], dtype=torch.float32)\n",
    "Y = torch.tensor([2,4,6,8], dtype=torch.float32)\n",
    "\n",
    "W = torch.tensor(0.0, dtype=torch.float32, requires_grad=True)\n",
    "\n",
    "iters = 10\n",
    "lr = 0.01\n",
    "\n",
    "loss = nn.MSELoss()\n",
    "optimizer = torch.optim.SGD([W],lr=lr) #argument - parameter and learning rate\n",
    "\n",
    "def forward(x, w):\n",
    "    return w*x\n",
    "\n",
    "\n",
    "for epoch in range(iters):\n",
    "    y_pred = forward(X, W)\n",
    "    l = loss(y_pred, Y)\n",
    "\n"
   ]
  },
  {
   "cell_type": "code",
   "execution_count": null,
   "metadata": {},
   "outputs": [],
   "source": []
  }
 ],
 "metadata": {
  "kernelspec": {
   "display_name": "paper",
   "language": "python",
   "name": "python3"
  },
  "language_info": {
   "codemirror_mode": {
    "name": "ipython",
    "version": 3
   },
   "file_extension": ".py",
   "mimetype": "text/x-python",
   "name": "python",
   "nbconvert_exporter": "python",
   "pygments_lexer": "ipython3",
   "version": "3.11.9"
  }
 },
 "nbformat": 4,
 "nbformat_minor": 2
}
