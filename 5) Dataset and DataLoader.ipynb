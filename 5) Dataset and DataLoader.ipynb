{
 "cells": [
  {
   "cell_type": "code",
   "execution_count": 2,
   "metadata": {},
   "outputs": [],
   "source": [
    "import numpy as np\n",
    "import torch\n",
    "import torchvision\n",
    "from torch.utils.data import Dataset, DataLoader\n",
    "import math\n",
    "import torch.nn as nn"
   ]
  },
  {
   "cell_type": "code",
   "execution_count": 3,
   "metadata": {},
   "outputs": [
    {
     "data": {
      "text/plain": [
       "(178,)"
      ]
     },
     "execution_count": 3,
     "metadata": {},
     "output_type": "execute_result"
    }
   ],
   "source": [
    "xy = np.loadtxt('wine.csv',delimiter=\",\", dtype=np.float32, skiprows=1)\n",
    "xy[:,0].shape\n"
   ]
  },
  {
   "cell_type": "markdown",
   "metadata": {},
   "source": [
    "### Dataset\n",
    "epoch - 1 forward and backward pass of ALL training samples\n",
    "batch_size - number of training sample in one forward and backward pass\n",
    "number of iterations - number of passes, each pass using batch_size number of sample\n",
    "\n",
    "e.g. 100 samples, batch_size=20 --> 100/20 = 5 iterations for 1 epoch"
   ]
  },
  {
   "cell_type": "code",
   "execution_count": 4,
   "metadata": {},
   "outputs": [],
   "source": [
    "class WineDataset(Dataset):\n",
    "\n",
    "    def __init__(self):\n",
    "        #data loading\n",
    "        xy = np.loadtxt('wine.csv', delimiter=\",\", dtype=np.float32, skiprows=1)\n",
    "        self.x = torch.from_numpy(xy[:,1:])\n",
    "        self.y = torch.from_numpy(xy[:,[0]]) #convert to 2d-array\n",
    "\n",
    "        self.n_samples = xy.shape[0]\n",
    "    def __getitem__(self, index):\n",
    "        #dataset[0]\n",
    "        return  (self.x[index], self.y[index])\n",
    "    def __len__(self):\n",
    "        return self.n_samples\n",
    "\n",
    "    def n_features(self):\n",
    "        return self.x.shape[1]\n",
    "dataset = WineDataset()\n"
   ]
  },
  {
   "cell_type": "code",
   "execution_count": 5,
   "metadata": {},
   "outputs": [
    {
     "name": "stdout",
     "output_type": "stream",
     "text": [
      "13\n"
     ]
    }
   ],
   "source": [
    "print(dataset.n_features())"
   ]
  },
  {
   "cell_type": "markdown",
   "metadata": {},
   "source": [
    "### Dataloader"
   ]
  },
  {
   "cell_type": "code",
   "execution_count": 6,
   "metadata": {},
   "outputs": [
    {
     "name": "stdout",
     "output_type": "stream",
     "text": [
      "torch.Size([4, 13])\n",
      "torch.Size([4, 1])\n"
     ]
    }
   ],
   "source": [
    "batch_size = 4\n",
    "\n",
    "dataloader = DataLoader(dataset=dataset, batch_size=batch_size, shuffle=True, drop_last=True)\n",
    "\n",
    "dataiter = iter(dataloader)\n",
    "data = next(dataiter)\n",
    "\n",
    "feature = data[0]\n",
    "label = data[1]\n",
    "\n",
    "print(feature.shape) #batch size, feature num\n",
    "print(label.shape) #"
   ]
  },
  {
   "cell_type": "markdown",
   "metadata": {},
   "source": [
    "### Model\n",
    "\n"
   ]
  },
  {
   "cell_type": "markdown",
   "metadata": {},
   "source": [
    "### Training loop\n",
    "\n"
   ]
  },
  {
   "cell_type": "code",
   "execution_count": 8,
   "metadata": {},
   "outputs": [
    {
     "name": "stdout",
     "output_type": "stream",
     "text": [
      "178 45\n",
      "epoch 1, step: 0/45\n",
      "epoch 1, step: 1/45\n",
      "epoch 1, step: 2/45\n",
      "epoch 1, step: 3/45\n",
      "epoch 1, step: 4/45\n",
      "epoch 1, step: 5/45\n",
      "epoch 1, step: 6/45\n",
      "epoch 1, step: 7/45\n",
      "epoch 1, step: 8/45\n",
      "epoch 1, step: 9/45\n",
      "epoch 1, step: 10/45\n",
      "epoch 1, step: 11/45\n",
      "epoch 1, step: 12/45\n",
      "epoch 1, step: 13/45\n",
      "epoch 1, step: 14/45\n",
      "epoch 1, step: 15/45\n",
      "epoch 1, step: 16/45\n",
      "epoch 1, step: 17/45\n",
      "epoch 1, step: 18/45\n",
      "epoch 1, step: 19/45\n",
      "epoch 1, step: 20/45\n",
      "epoch 1, step: 21/45\n",
      "epoch 1, step: 22/45\n",
      "epoch 1, step: 23/45\n",
      "epoch 1, step: 24/45\n",
      "epoch 1, step: 25/45\n",
      "epoch 1, step: 26/45\n",
      "epoch 1, step: 27/45\n",
      "epoch 1, step: 28/45\n",
      "epoch 1, step: 29/45\n",
      "epoch 1, step: 30/45\n",
      "epoch 1, step: 31/45\n",
      "epoch 1, step: 32/45\n",
      "epoch 1, step: 33/45\n",
      "epoch 1, step: 34/45\n",
      "epoch 1, step: 35/45\n",
      "epoch 1, step: 36/45\n",
      "epoch 1, step: 37/45\n",
      "epoch 1, step: 38/45\n",
      "epoch 1, step: 39/45\n",
      "epoch 1, step: 40/45\n",
      "epoch 1, step: 41/45\n",
      "epoch 1, step: 42/45\n",
      "epoch 1, step: 43/45\n",
      "epoch 2, step: 0/45\n",
      "epoch 2, step: 1/45\n",
      "epoch 2, step: 2/45\n",
      "epoch 2, step: 3/45\n",
      "epoch 2, step: 4/45\n",
      "epoch 2, step: 5/45\n",
      "epoch 2, step: 6/45\n",
      "epoch 2, step: 7/45\n",
      "epoch 2, step: 8/45\n",
      "epoch 2, step: 9/45\n",
      "epoch 2, step: 10/45\n",
      "epoch 2, step: 11/45\n",
      "epoch 2, step: 12/45\n",
      "epoch 2, step: 13/45\n",
      "epoch 2, step: 14/45\n",
      "epoch 2, step: 15/45\n",
      "epoch 2, step: 16/45\n",
      "epoch 2, step: 17/45\n",
      "epoch 2, step: 18/45\n",
      "epoch 2, step: 19/45\n",
      "epoch 2, step: 20/45\n",
      "epoch 2, step: 21/45\n",
      "epoch 2, step: 22/45\n",
      "epoch 2, step: 23/45\n",
      "epoch 2, step: 24/45\n",
      "epoch 2, step: 25/45\n",
      "epoch 2, step: 26/45\n",
      "epoch 2, step: 27/45\n",
      "epoch 2, step: 28/45\n",
      "epoch 2, step: 29/45\n",
      "epoch 2, step: 30/45\n",
      "epoch 2, step: 31/45\n",
      "epoch 2, step: 32/45\n",
      "epoch 2, step: 33/45\n",
      "epoch 2, step: 34/45\n",
      "epoch 2, step: 35/45\n",
      "epoch 2, step: 36/45\n",
      "epoch 2, step: 37/45\n",
      "epoch 2, step: 38/45\n",
      "epoch 2, step: 39/45\n",
      "epoch 2, step: 40/45\n",
      "epoch 2, step: 41/45\n",
      "epoch 2, step: 42/45\n",
      "epoch 2, step: 43/45\n"
     ]
    }
   ],
   "source": [
    "num_epochs = 2\n",
    "lr = 0.01\n",
    "\n",
    "total_samples = len(dataset)\n",
    "n_iterations = math.ceil(total_samples / batch_size)\n",
    "\n",
    "\n",
    "\n",
    "\n",
    "print(total_samples, n_iterations)\n",
    "\n",
    "for epoch in range(num_epochs):\n",
    "    for i, (input,label) in enumerate(dataloader):\n",
    "\n",
    "        print(\"epoch {}, step: {}/{}\".format(epoch+1, i, n_iterations))\n",
    "\n"
   ]
  }
 ],
 "metadata": {
  "kernelspec": {
   "display_name": "paper",
   "language": "python",
   "name": "python3"
  },
  "language_info": {
   "codemirror_mode": {
    "name": "ipython",
    "version": 3
   },
   "file_extension": ".py",
   "mimetype": "text/x-python",
   "name": "python",
   "nbconvert_exporter": "python",
   "pygments_lexer": "ipython3",
   "version": "3.11.9"
  }
 },
 "nbformat": 4,
 "nbformat_minor": 2
}
